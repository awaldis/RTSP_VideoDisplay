{
 "cells": [
  {
   "cell_type": "markdown",
   "metadata": {},
   "source": [
    "A notebook that allows manual interactions with an RTSP server.\n",
    "Intended to increase one's understanding of the RTSP protocol."
   ]
  },
  {
   "cell_type": "code",
   "execution_count": 2,
   "metadata": {},
   "outputs": [],
   "source": [
    "import socket\n",
    "from urllib.parse import urlparse"
   ]
  },
  {
   "cell_type": "code",
   "execution_count": 3,
   "metadata": {},
   "outputs": [],
   "source": [
    "# Function to read RTSP URLs from a file\n",
    "def read_rtsp_urls(filename):\n",
    "    urls = []\n",
    "    try:\n",
    "        with open(filename, 'r') as file:\n",
    "            urls = [line.strip() for line in file.readlines() if line.strip()]\n",
    "    except FileNotFoundError:\n",
    "        print(f\"Error: File {filename} not found.\")\n",
    "    return urls"
   ]
  },
  {
   "cell_type": "code",
   "execution_count": 4,
   "metadata": {},
   "outputs": [],
   "source": [
    "def send_rtsp_options(url):\n",
    "    # Parse the RTSP URL to extract IP address and port\n",
    "    parsed_url = urlparse(url)\n",
    "    server_ip = parsed_url.hostname\n",
    "    server_port = parsed_url.port if parsed_url.port else 554\n",
    "    \n",
    "    # Create a TCP socket\n",
    "    client_socket = socket.socket(socket.AF_INET, socket.SOCK_STREAM)\n",
    "    \n",
    "    try:\n",
    "        # Connect to the RTSP server\n",
    "        client_socket.connect((server_ip, server_port))\n",
    "        \n",
    "        # Prepare the RTSP OPTIONS request\n",
    "        cseq = 1\n",
    "        options_request = f\"OPTIONS {url} RTSP/1.0\\r\\n\"\n",
    "        options_request += f\"CSeq: {cseq}\\r\\n\"\n",
    "        options_request += \"User-Agent: Python RTSP Client\\r\\n\"\n",
    "        options_request += \"\\r\\n\"\n",
    "        \n",
    "        # Send the request to the RTSP server\n",
    "        client_socket.send(options_request.encode())\n",
    "        \n",
    "        # Receive the response from the server\n",
    "        response = client_socket.recv(4096)\n",
    "        print(\"RTSP Server Response:\\n\")\n",
    "        print(response.decode())\n",
    "        \n",
    "    except Exception as e:\n",
    "        print(f\"Error: {e}\")\n",
    "    finally:\n",
    "        # Close the socket connection\n",
    "        client_socket.close()"
   ]
  },
  {
   "cell_type": "code",
   "execution_count": 5,
   "metadata": {},
   "outputs": [],
   "source": [
    "rtsp_urls = read_rtsp_urls('rtsp_urls.txt')"
   ]
  },
  {
   "cell_type": "code",
   "execution_count": null,
   "metadata": {},
   "outputs": [],
   "source": [
    "send_rtsp_options(rtsp_urls[1][1:-1])"
   ]
  }
 ],
 "metadata": {
  "kernelspec": {
   "display_name": "Python 3",
   "language": "python",
   "name": "python3"
  },
  "language_info": {
   "codemirror_mode": {
    "name": "ipython",
    "version": 3
   },
   "file_extension": ".py",
   "mimetype": "text/x-python",
   "name": "python",
   "nbconvert_exporter": "python",
   "pygments_lexer": "ipython3",
   "version": "3.10.11"
  }
 },
 "nbformat": 4,
 "nbformat_minor": 2
}
