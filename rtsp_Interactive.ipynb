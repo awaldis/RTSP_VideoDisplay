{
 "cells": [
  {
   "cell_type": "markdown",
   "metadata": {},
   "source": [
    "A notebook that allows manual interactions with an RTSP server.  \n",
    "Intended to increase one's understanding of the RTSP protocol."
   ]
  },
  {
   "cell_type": "code",
   "execution_count": 1,
   "metadata": {},
   "outputs": [],
   "source": [
    "import socket\n",
    "import hashlib\n",
    "from urllib.parse import urlparse"
   ]
  },
  {
   "cell_type": "code",
   "execution_count": 2,
   "metadata": {},
   "outputs": [],
   "source": [
    "# Function to read RTSP URLs from a file\n",
    "def read_rtsp_urls(filename):\n",
    "    urls = []\n",
    "    try:\n",
    "        with open(filename, 'r') as file:\n",
    "            urls = [line.strip() for line in file.readlines() if line.strip()]\n",
    "    except FileNotFoundError:\n",
    "        print(f\"Error: File {filename} not found.\")\n",
    "    return urls"
   ]
  },
  {
   "cell_type": "code",
   "execution_count": 3,
   "metadata": {},
   "outputs": [],
   "source": [
    "def send_rtsp_options(url):\n",
    "    # Parse the RTSP URL to extract IP address and port\n",
    "    parsed_url = urlparse(url)\n",
    "    server_ip = parsed_url.hostname\n",
    "    server_port = parsed_url.port if parsed_url.port else 554\n",
    "    \n",
    "    # Create a TCP socket\n",
    "    client_socket = socket.socket(socket.AF_INET, socket.SOCK_STREAM)\n",
    "    \n",
    "    try:\n",
    "        # Connect to the RTSP server\n",
    "        client_socket.connect((server_ip, server_port))\n",
    "        \n",
    "        # Prepare the RTSP OPTIONS request\n",
    "        cseq = 1\n",
    "        options_request = f\"OPTIONS {url} RTSP/1.0\\r\\n\"\n",
    "        options_request += f\"CSeq: {cseq}\\r\\n\"\n",
    "        options_request += \"User-Agent: Python RTSP Client\\r\\n\"\n",
    "        options_request += \"\\r\\n\"\n",
    "        \n",
    "        # Send the request to the RTSP server\n",
    "        client_socket.send(options_request.encode())\n",
    "        \n",
    "        # Receive the response from the server\n",
    "        response = client_socket.recv(4096)\n",
    "        print(\"RTSP Server Response:\\n\")\n",
    "        print(response.decode())\n",
    "        \n",
    "    except Exception as e:\n",
    "        print(f\"Error: {e}\")\n",
    "    finally:\n",
    "        # Close the socket connection\n",
    "        client_socket.close()"
   ]
  },
  {
   "cell_type": "code",
   "execution_count": 4,
   "metadata": {},
   "outputs": [],
   "source": [
    "def send_rtsp_describe(url):\n",
    "    # Parse the RTSP URL to extract IP address, port, username, and password\n",
    "    parsed_url = urlparse(url)\n",
    "    server_ip = parsed_url.hostname\n",
    "    server_port = parsed_url.port if parsed_url.port else 554\n",
    "    username = parsed_url.username\n",
    "    password = parsed_url.password\n",
    "    \n",
    "    # Create a TCP socket\n",
    "    client_socket = socket.socket(socket.AF_INET, socket.SOCK_STREAM)\n",
    "    \n",
    "    try:\n",
    "        # Connect to the RTSP server\n",
    "        client_socket.connect((server_ip, server_port))\n",
    "        \n",
    "        # Prepare the initial RTSP DESCRIBE request\n",
    "        cseq = 2\n",
    "        describe_request = f\"DESCRIBE {url} RTSP/1.0\\r\\n\"\n",
    "        describe_request += f\"CSeq: {cseq}\\r\\n\"\n",
    "        describe_request += \"User-Agent: Python RTSP Client\\r\\n\"\n",
    "        describe_request += \"Accept: application/sdp\\r\\n\"\n",
    "        describe_request += \"\\r\\n\"\n",
    "        \n",
    "        # Send the request to the RTSP server\n",
    "        client_socket.send(describe_request.encode())\n",
    "        \n",
    "        # Receive the response from the server\n",
    "        response = client_socket.recv(4096)\n",
    "        response_str = response.decode()\n",
    "        print(\"RTSP Server Response (DESCRIBE):\\n\")\n",
    "        print(response_str)\n",
    "        \n",
    "        # Check if authentication is required (401 Unauthorized)\n",
    "        if \"401 Unauthorized\" in response_str:\n",
    "            # Extract the realm and nonce from the response\n",
    "            realm = None\n",
    "            nonce = None\n",
    "            for line in response_str.split(\"\\r\\n\"):\n",
    "                if line.startswith(\"WWW-Authenticate: Digest\"):\n",
    "                    parts = line.split(\",\")\n",
    "                    for part in parts:\n",
    "                        if \"realm\" in part:\n",
    "                            realm = part.split('\"')[1]\n",
    "                        elif \"nonce\" in part:\n",
    "                            nonce = part.split('\"')[1]\n",
    "            \n",
    "            if realm and nonce and username and password:\n",
    "                # Compute the digest response\n",
    "                ha1 = hashlib.md5(f\"{username}:{realm}:{password}\".encode()).hexdigest()\n",
    "                ha2 = hashlib.md5(f\"DESCRIBE:{url}\".encode()).hexdigest()\n",
    "                response_digest = hashlib.md5(f\"{ha1}:{nonce}:{ha2}\".encode()).hexdigest()\n",
    "                \n",
    "                # Prepare the authenticated DESCRIBE request\n",
    "                cseq += 1\n",
    "                describe_request = f\"DESCRIBE {url} RTSP/1.0\\r\\n\"\n",
    "                describe_request += f\"CSeq: {cseq}\\r\\n\"\n",
    "                describe_request += \"User-Agent: Python RTSP Client\\r\\n\"\n",
    "                describe_request += \"Accept: application/sdp\\r\\n\"\n",
    "                describe_request += (\n",
    "                    f\"Authorization: Digest username=\\\"{username}\\\", realm=\\\"{realm}\\\", nonce=\\\"{nonce}\\\", uri=\\\"{url}\\\", response=\\\"{response_digest}\\\"\\r\\n\"\n",
    "                )\n",
    "                describe_request += \"\\r\\n\"\n",
    "                \n",
    "                # Send the authenticated request to the RTSP server\n",
    "                client_socket.send(describe_request.encode())\n",
    "                \n",
    "                # Receive the response from the server\n",
    "                response = client_socket.recv(4096)\n",
    "                print(\"RTSP Server Response (Authenticated DESCRIBE):\\n\")\n",
    "                print(response.decode())\n",
    "            else:\n",
    "                print(\"Authentication required, but realm/nonce extraction failed or credentials not provided.\")\n",
    "        \n",
    "    except Exception as e:\n",
    "        print(f\"Error: {e}\")\n",
    "    finally:\n",
    "        # Close the socket connection\n",
    "        client_socket.close()\n",
    "\n"
   ]
  },
  {
   "cell_type": "code",
   "execution_count": 5,
   "metadata": {},
   "outputs": [],
   "source": [
    "rtsp_urls = read_rtsp_urls('rtsp_urls.txt')"
   ]
  },
  {
   "cell_type": "code",
   "execution_count": null,
   "metadata": {},
   "outputs": [],
   "source": [
    "#send_rtsp_options(rtsp_urls[1][1:-1])\n",
    "send_rtsp_describe(rtsp_urls[1][1:-1])"
   ]
  },
  {
   "cell_type": "code",
   "execution_count": null,
   "metadata": {},
   "outputs": [],
   "source": [
    "#send_rtsp_options(\"rtsp://192.168.50.67:8080/video/h264\")\n",
    "send_rtsp_describe(\"rtsp://192.168.50.67:8080/video/h264\")"
   ]
  }
 ],
 "metadata": {
  "kernelspec": {
   "display_name": "Python 3",
   "language": "python",
   "name": "python3"
  },
  "language_info": {
   "codemirror_mode": {
    "name": "ipython",
    "version": 3
   },
   "file_extension": ".py",
   "mimetype": "text/x-python",
   "name": "python",
   "nbconvert_exporter": "python",
   "pygments_lexer": "ipython3",
   "version": "3.10.11"
  }
 },
 "nbformat": 4,
 "nbformat_minor": 2
}
