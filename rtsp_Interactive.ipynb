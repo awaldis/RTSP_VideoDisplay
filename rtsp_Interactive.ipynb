{
 "cells": [
  {
   "cell_type": "markdown",
   "metadata": {},
   "source": [
    "A notebook that allows manual interactions with an RTSP server.  \n",
    "Intended to increase one's understanding of the RTSP protocol."
   ]
  },
  {
   "cell_type": "code",
   "execution_count": 1,
   "metadata": {},
   "outputs": [],
   "source": [
    "import socket\n",
    "import hashlib\n",
    "from urllib.parse import urlparse\n",
    "from send_rtsp_setup import send_rtsp_setup\n",
    "from send_rtsp_describe import send_rtsp_describe"
   ]
  },
  {
   "cell_type": "code",
   "execution_count": 11,
   "metadata": {},
   "outputs": [],
   "source": [
    "# Function to read RTSP URLs from a file\n",
    "def read_rtsp_urls(filename):\n",
    "    urls = []\n",
    "    try:\n",
    "        with open(filename, 'r') as file:\n",
    "            urls = [line.strip() for line in file.readlines() if line.strip()]\n",
    "    except FileNotFoundError:\n",
    "        print(f\"Error: File {filename} not found.\")\n",
    "    return urls"
   ]
  },
  {
   "cell_type": "code",
   "execution_count": 16,
   "metadata": {},
   "outputs": [],
   "source": [
    "class RTSPClient:\n",
    "    def __init__(self, url):\n",
    "        self.parsed_url = urlparse(url)\n",
    "        self.url = self.remove_credentials_from_url()\n",
    "        self.server_ip = self.parsed_url.hostname\n",
    "        self.server_port = self.parsed_url.port if self.parsed_url.port else 554\n",
    "        self.username = self.parsed_url.username\n",
    "        self.password = self.parsed_url.password\n",
    "        self.client_socket = socket.socket(socket.AF_INET, socket.SOCK_STREAM)\n",
    "        self.session_id = None\n",
    "        self.auth_realm = None\n",
    "        self.auth_nonce = None\n",
    "        self.auth_required = False\n",
    "        self.cseq = 5\n",
    "\n",
    "    # Methods defined in other files.\n",
    "    send_rtsp_setup = send_rtsp_setup\n",
    "    send_rtsp_describe = send_rtsp_describe\n",
    "    \n",
    "    def connect(self):\n",
    "        try:\n",
    "            self.client_socket.connect((self.server_ip, self.server_port))\n",
    "        except Exception as e:\n",
    "            print(f\"Error connecting to server: {e}\")\n",
    "\n",
    "    def close(self):\n",
    "        self.client_socket.close()\n",
    "\n",
    "    def remove_credentials_from_url(self):\n",
    "        # Reconstruct the URL without username and password\n",
    "        new_url = self.parsed_url._replace(netloc=self.parsed_url.hostname + (f\":{self.parsed_url.port}\" if self.parsed_url.port else \"\"))\n",
    "        return new_url.geturl()\n",
    "\n",
    "    def send_rtsp_options(self):\n",
    "        try:\n",
    "            # Prepare the RTSP OPTIONS request\n",
    "            cseq = 1\n",
    "            options_request = f\"OPTIONS {self.remove_credentials_from_url()} RTSP/1.0\\r\\n\"\n",
    "            options_request += f\"CSeq: {cseq}\\r\\n\"\n",
    "            options_request += \"User-Agent: Python RTSP Client\\r\\n\"\n",
    "            options_request += \"\\r\\n\"\n",
    "            \n",
    "            # Send the request to the RTSP server\n",
    "            self.client_socket.send(options_request.encode())\n",
    "            \n",
    "            # Receive the response from the server\n",
    "            response = self.client_socket.recv(4096)\n",
    "            print(\"RTSP Server Response (OPTIONS):\\n\")\n",
    "            print(response.decode())\n",
    "            \n",
    "        except Exception as e:\n",
    "            print(f\"Error: {e}\")\n",
    "\n",
    "    def send_rtsp_command(self, command_type=\"PLAY\"):\n",
    "        try:\n",
    "            # Validate the command_type\n",
    "            if command_type not in [\"PLAY\", \"PAUSE\", \"TEARDOWN\"]:\n",
    "                print(f\"Error: Invalid command_type '{command_type}'. Must be 'PLAY', 'PAUSE', or 'TEARDOWN'.\")\n",
    "                return\n",
    "\n",
    "            # Prepare the RTSP PLAY request\n",
    "            self.cseq += 1\n",
    "            command_request = f\"{command_type} {self.url} RTSP/1.0\\r\\n\"\n",
    "            command_request += f\"CSeq: {self.cseq}\\r\\n\"\n",
    "            command_request += \"User-Agent: Python RTSP Client\\r\\n\"\n",
    "            if self.session_id:\n",
    "                command_request += f\"Session: {self.session_id}\\r\\n\"\n",
    "\n",
    "            # If authentication is required, add the Authorization header\n",
    "            if self.auth_required and self.auth_realm and self.auth_nonce and self.username and self.password:\n",
    "                # Compute the digest response\n",
    "                ha1 = hashlib.md5(f\"{self.username}:{self.auth_realm}:{self.password}\".encode()).hexdigest()\n",
    "                ha2 = hashlib.md5(f\"{command_type}:{self.remove_credentials_from_url()}&trackID=1\".encode()).hexdigest()\n",
    "                response_digest = hashlib.md5(f\"{ha1}:{self.auth_nonce}:{ha2}\".encode()).hexdigest()\n",
    "                command_request += (\n",
    "                    f\"Authorization: Digest username=\\\"{self.username}\\\", realm=\\\"{self.auth_realm}\\\", nonce=\\\"{self.auth_nonce}\\\", uri=\\\"{self.url}&trackID=1\\\", response=\\\"{response_digest}\\\"\\r\\n\"\n",
    "                )\n",
    "            command_request += \"\\r\\n\"\n",
    "\n",
    "            \n",
    "            # Send the PLAY request\n",
    "            self.client_socket.send(command_request.encode())\n",
    "            \n",
    "            # Receive the response from the server\n",
    "            response = self.client_socket.recv(4096)\n",
    "            response_str = response.decode()\n",
    "            print(\"RTSP Server Response (PLAY):\\n\")\n",
    "            print(response_str)\n",
    "            \n",
    "        except Exception as e:\n",
    "            print(f\"Error: {e}\")"
   ]
  },
  {
   "cell_type": "code",
   "execution_count": 4,
   "metadata": {},
   "outputs": [],
   "source": [
    "rtsp_urls = read_rtsp_urls('rtsp_urls.txt')"
   ]
  },
  {
   "cell_type": "code",
   "execution_count": null,
   "metadata": {},
   "outputs": [],
   "source": [
    "client = RTSPClient(rtsp_urls[1][1:-1])\n",
    "client.connect()\n",
    "client.send_rtsp_options()\n",
    "client.send_rtsp_describe()\n",
    "client.send_rtsp_setup()"
   ]
  },
  {
   "cell_type": "code",
   "execution_count": null,
   "metadata": {},
   "outputs": [],
   "source": [
    "client.send_rtsp_command(\"PLAY\")"
   ]
  },
  {
   "cell_type": "code",
   "execution_count": null,
   "metadata": {},
   "outputs": [],
   "source": [
    "client.send_rtsp_command(\"PAUSE\")"
   ]
  },
  {
   "cell_type": "code",
   "execution_count": null,
   "metadata": {},
   "outputs": [],
   "source": [
    "client.send_rtsp_command(\"TEARDOWN\")"
   ]
  },
  {
   "cell_type": "code",
   "execution_count": 15,
   "metadata": {},
   "outputs": [],
   "source": [
    "client.close()"
   ]
  }
 ],
 "metadata": {
  "kernelspec": {
   "display_name": "Python 3",
   "language": "python",
   "name": "python3"
  },
  "language_info": {
   "codemirror_mode": {
    "name": "ipython",
    "version": 3
   },
   "file_extension": ".py",
   "mimetype": "text/x-python",
   "name": "python",
   "nbconvert_exporter": "python",
   "pygments_lexer": "ipython3",
   "version": "3.10.11"
  }
 },
 "nbformat": 4,
 "nbformat_minor": 2
}
